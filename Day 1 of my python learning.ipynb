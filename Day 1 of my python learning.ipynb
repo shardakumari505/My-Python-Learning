{
 "cells": [
  {
   "cell_type": "code",
   "execution_count": 14,
   "metadata": {},
   "outputs": [
    {
     "name": "stdout",
     "output_type": "stream",
     "text": [
      "['guava', 'apple', 'strawberry', 'grapes']\n"
     ]
    }
   ],
   "source": [
    "#list of my favourite fruits\n",
    "fav_fruit = ['guava' , 'apple' , 'strawberry' , 'grapes']\n",
    "print(fav_fruit)"
   ]
  },
  {
   "cell_type": "code",
   "execution_count": 13,
   "metadata": {},
   "outputs": [
    {
     "name": "stdout",
     "output_type": "stream",
     "text": [
      "{'book': 'The harry potter', 'author': 'J.K.Rowling', 'versions': '7', 'main_char': 'Harrypotter'}\n"
     ]
    }
   ],
   "source": [
    "#dictionary of my favourite product\n",
    "fav = {\"book\" : \"The harry potter\" , \"author\" : \"J.K.Rowling\" , \"versions\" : \"7\" , \"main_char\" : \"Harrypotter\"}\n",
    "print(fav)"
   ]
  },
  {
   "cell_type": "code",
   "execution_count": 25,
   "metadata": {},
   "outputs": [
    {
     "name": "stdout",
     "output_type": "stream",
     "text": [
      "My first name is sharda\n",
      "My last name is kumari\n",
      "My full name is sharda kumari\n",
      "Length of my first name is 6\n",
      "Length of my last name is 6\n",
      "Length of my name is 13\n",
      "My first name in lower case is sharda\n",
      "My last name in lower case is kumari\n",
      "My name in lower case is sharda kumari\n",
      "My first name in upper case is SHARDA\n",
      "My last name in upper case is KUMARI\n",
      "My name in upper case is SHARDA KUMARI\n"
     ]
    }
   ],
   "source": [
    "#my first name , last name as well as full name\n",
    "first_name = 'sharda'\n",
    "last_name = 'kumari'\n",
    "full_name = first_name + \" \" + last_name\n",
    "length_of_first_name = len(first_name)      #len returns the length of a string\n",
    "length_of_last_name = len(last_name)\n",
    "length_of_my_name = len(full_name)\n",
    "lower_first_name = first_name.lower()       #lower returns any string after converting it in lower case\n",
    "lower_last_name = last_name.lower()\n",
    "lower_my_name = full_name.lower()\n",
    "upper_first_name = first_name.upper()       #upper returns any string after converting it in upper case\n",
    "upper_last_name = last_name.upper()\n",
    "upper_my_name = full_name.upper()\n",
    "print(\"My first name is \" + first_name)\n",
    "print(\"My last name is \" + last_name)\n",
    "print(\"My full name is \" + full_name)\n",
    "print(\"Length of my first name is \" + str(length_of_first_name))\n",
    "print(\"Length of my last name is \" + str(length_of_last_name))\n",
    "print(\"Length of my name is \" + str(length_of_my_name))\n",
    "print(\"My first name in lower case is \" + lower_first_name)\n",
    "print(\"My last name in lower case is \" + lower_last_name)\n",
    "print(\"My name in lower case is \" + lower_my_name)\n",
    "print(\"My first name in upper case is \" + upper_first_name)\n",
    "print(\"My last name in upper case is \" + upper_last_name)\n",
    "print(\"My name in upper case is \" + upper_my_name)"
   ]
  },
  {
   "cell_type": "code",
   "execution_count": 34,
   "metadata": {},
   "outputs": [
    {
     "name": "stdout",
     "output_type": "stream",
     "text": [
      "5\n",
      "4\n"
     ]
    }
   ],
   "source": [
    "#numbers\n",
    "\"\"\"% also called as modulus returns the remainder when one of the number is divided by the other that is if i divide\n",
    "7 with 2 it will give a result of 1 \n",
    "\"\"\"\n",
    "x = 5\n",
    "y = 10\n",
    "d = 53\n",
    "e = 7\n",
    "z = x%y\n",
    "f = d%e\n",
    "print(z)\n",
    "print(f)"
   ]
  },
  {
   "cell_type": "code",
   "execution_count": 33,
   "metadata": {},
   "outputs": [
    {
     "name": "stdout",
     "output_type": "stream",
     "text": [
      "2\n",
      "2\n"
     ]
    }
   ],
   "source": [
    "# // returns the floor division of two numbers that is if i divide 7 with 2 it will give a result of 3 since 7 = 2*3 + 1\n",
    "a = 5\n",
    "b = 2\n",
    "p = 70\n",
    "q = 30\n",
    "c = 5//2\n",
    "r = 70//30\n",
    "print(c)\n",
    "print(r)"
   ]
  },
  {
   "cell_type": "code",
   "execution_count": 37,
   "metadata": {},
   "outputs": [
    {
     "name": "stdout",
     "output_type": "stream",
     "text": [
      "1.4782608695652173\n",
      "57\n",
      "11\n",
      "782\n"
     ]
    }
   ],
   "source": [
    "# / returns the simple division value when one number is divided by the other\n",
    "t = 34\n",
    "u = 23\n",
    "v = t/u\n",
    "print(v)\n",
    "# + returns the addition of two numbers\n",
    "g = 34\n",
    "h = 23\n",
    "i = g+h\n",
    "print(i)\n",
    "# - returns the value when one number is subtracted from other\n",
    "m = 34\n",
    "n = 23\n",
    "o = m-n\n",
    "print(o)\n",
    "# * returns the multiplication value of two numbers\n",
    "u = 34\n",
    "v = 23\n",
    "w = u*v\n",
    "print(w)"
   ]
  },
  {
   "cell_type": "code",
   "execution_count": 36,
   "metadata": {},
   "outputs": [
    {
     "name": "stdout",
     "output_type": "stream",
     "text": [
      "16\n"
     ]
    }
   ],
   "source": [
    "# ** returns the exponential of two numbers\n",
    "j = 4\n",
    "k = 2\n",
    "l = j**k\n",
    "print(l)"
   ]
  },
  {
   "cell_type": "code",
   "execution_count": null,
   "metadata": {},
   "outputs": [],
   "source": []
  }
 ],
 "metadata": {
  "kernelspec": {
   "display_name": "Python 3",
   "language": "python",
   "name": "python3"
  },
  "language_info": {
   "codemirror_mode": {
    "name": "ipython",
    "version": 3
   },
   "file_extension": ".py",
   "mimetype": "text/x-python",
   "name": "python",
   "nbconvert_exporter": "python",
   "pygments_lexer": "ipython3",
   "version": "3.8.5"
  }
 },
 "nbformat": 4,
 "nbformat_minor": 4
}
